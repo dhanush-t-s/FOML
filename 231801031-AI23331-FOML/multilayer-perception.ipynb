{
 "cells": [
  {
   "cell_type": "code",
   "execution_count": 2,
   "id": "d80751d7-2643-4328-baca-60f6c256e9ac",
   "metadata": {},
   "outputs": [],
   "source": [
    "import pandas as pd\n",
    "import numpy as np\n",
    "from sklearn.model_selection import train_test_split\n",
    "from sklearn.neural_network import MLPClassifier\n",
    "from sklearn.metrics import confusion_matrix, classification_report"
   ]
  },
  {
   "cell_type": "code",
   "execution_count": 4,
   "id": "1ae20c7e-dde7-485c-9ea4-2cef1b05d878",
   "metadata": {},
   "outputs": [
    {
     "name": "stdout",
     "output_type": "stream",
     "text": [
      "First 10 rows of the dataset:\n",
      "   variance    skew  curtosis  entropy  class\n",
      "0   3.62160  8.6661  -2.80730 -0.44699      0\n",
      "1   4.54590  8.1674  -2.45860 -1.46210      0\n",
      "2   3.86600 -2.6383   1.92420  0.10645      0\n",
      "3   3.45660  9.5228  -4.01120 -3.59440      0\n",
      "4   0.32924 -4.4552   4.57180 -0.98880      0\n",
      "5   4.36840  9.6718  -3.96060 -3.16250      0\n",
      "6   3.59120  3.0129   0.72888  0.56421      0\n",
      "7   2.09220 -6.8100   8.46360 -0.60216      0\n",
      "8   3.20320  5.7588  -0.75345 -0.61251      0\n",
      "9   1.53560  9.1772  -2.27180 -0.73535      0\n",
      "\n",
      "Dataset Dimensions:\n",
      "(1372, 5)\n",
      "\n",
      "Descriptive Statistics:\n",
      "          variance         skew     curtosis      entropy        class\n",
      "count  1372.000000  1372.000000  1372.000000  1372.000000  1372.000000\n",
      "mean      0.433735     1.922353     1.397627    -1.191657     0.444606\n",
      "std       2.842763     5.869047     4.310030     2.101013     0.497103\n",
      "min      -7.042100   -13.773100    -5.286100    -8.548200     0.000000\n",
      "25%      -1.773000    -1.708200    -1.574975    -2.413450     0.000000\n",
      "50%       0.496180     2.319650     0.616630    -0.586650     0.000000\n",
      "75%       2.821475     6.814625     3.179250     0.394810     1.000000\n",
      "max       6.824800    12.951600    17.927400     2.449500     1.000000\n"
     ]
    }
   ],
   "source": [
    "data = pd.read_csv(\"banknote-authentication.csv\")\n",
    "print(\"First 10 rows of the dataset:\")\n",
    "print(data.head(10))\n",
    "print(\"\\nDataset Dimensions:\")\n",
    "print(data.shape)\n",
    "print(\"\\nDescriptive Statistics:\")\n",
    "print(data.describe())\n"
   ]
  },
  {
   "cell_type": "code",
   "execution_count": 6,
   "id": "5fb34bb2-3251-437b-96ec-3319ae72cd0c",
   "metadata": {},
   "outputs": [
    {
     "name": "stdout",
     "output_type": "stream",
     "text": [
      "\n",
      "Predictions with ReLU activation:\n",
      "[0 0 0 0 0 0 0 0 0 0 1 1 0 1 0 1 1 1 1 1 0 0 1 0 1 0 0 1 0 0 1 0 0 1 1 0 1\n",
      " 1 1 0 0 1 1 0 1 1 1 0 0 1 0 0 0 0 0 1 0 0 0 0 1 0 1 0 0 0 0 0 0 1 1 0 1 0\n",
      " 1 0 0 1 1 1 1 0 1 0 0 0 0 1 1 0 0 0 1 1 0 1 1 0 0 0 1 0 0 0 1 0 0 1 1 1 1\n",
      " 1 0 1 1 1 0 1 1 0 1 0 1 0 1 0 1 1 0 1 1 0 0 0 0 0 1 0 0 0 0 0 1 0 1 1 1 1\n",
      " 1 0 1 1 1 0 1 0 1 0 0 0 1 1 1 1 1 0 1 0 0 0 0 0 0 1 0 0 1 1 0 0 0 0 1 0 1\n",
      " 0 1 1 0 0 1 0 0 1 1 1 1 0 0 1 1 1 0 0 1 1 1 1 0 0 0 0 0 0 0 0 0 0 1 1 1 1\n",
      " 1 0 1 0 0 1 1 1 1 0 1 0 1 1 1 1 0 0 0 1 0 1 1 1 0 0 0 0 0 0 1 0 1 0 0 0 1\n",
      " 1 0 0 0 1 1 0 1 0 1 1 1 1 0 0 0]\n",
      "\n",
      "Confusion Matrix:\n",
      "[[148   0]\n",
      " [  0 127]]\n",
      "\n",
      "Classification Report:\n",
      "              precision    recall  f1-score   support\n",
      "\n",
      "           0       1.00      1.00      1.00       148\n",
      "           1       1.00      1.00      1.00       127\n",
      "\n",
      "    accuracy                           1.00       275\n",
      "   macro avg       1.00      1.00      1.00       275\n",
      "weighted avg       1.00      1.00      1.00       275\n",
      "\n"
     ]
    }
   ],
   "source": [
    "X = data.drop(columns='class')\n",
    "y = data['class']\n",
    "x_train, x_test, y_train, y_test = train_test_split(X, y, test_size=0.2, random_state=42)\n",
    "clf = MLPClassifier(max_iter=500, activation='relu', random_state=42)\n",
    "clf.fit(x_train, y_train)\n",
    "pred = clf.predict(x_test)\n",
    "print(\"\\nPredictions with ReLU activation:\")\n",
    "print(pred)\n",
    "cm = confusion_matrix(y_test, pred)\n",
    "print(\"\\nConfusion Matrix:\")\n",
    "print(cm)\n",
    "cr = classification_report(y_test, pred)\n",
    "print(\"\\nClassification Report:\")\n",
    "print(cr)\n"
   ]
  },
  {
   "cell_type": "code",
   "execution_count": 8,
   "id": "b7836ede-bee8-474a-b2b0-c090a795427f",
   "metadata": {},
   "outputs": [
    {
     "name": "stdout",
     "output_type": "stream",
     "text": [
      "\n",
      "Confusion Matrix with ReLU activation (70-30 split):\n",
      "[[229   0]\n",
      " [  0 183]]\n",
      "\n",
      "Classification Report with ReLU activation (70-30 split):\n",
      "              precision    recall  f1-score   support\n",
      "\n",
      "           0       1.00      1.00      1.00       229\n",
      "           1       1.00      1.00      1.00       183\n",
      "\n",
      "    accuracy                           1.00       412\n",
      "   macro avg       1.00      1.00      1.00       412\n",
      "weighted avg       1.00      1.00      1.00       412\n",
      "\n",
      "\n",
      "Confusion Matrix with Logistic activation (70-30 split):\n",
      "[[229   0]\n",
      " [  1 182]]\n"
     ]
    }
   ],
   "source": [
    "x_train, x_test, y_train, y_test = train_test_split(X, y, test_size=0.3, random_state=42)\n",
    "clf = MLPClassifier(max_iter=500, activation='relu', random_state=42)\n",
    "clf.fit(x_train, y_train)\n",
    "pred = clf.predict(x_test)\n",
    "print(\"\\nConfusion Matrix with ReLU activation (70-30 split):\")\n",
    "print(confusion_matrix(y_test, pred))\n",
    "print(\"\\nClassification Report with ReLU activation (70-30 split):\")\n",
    "print(classification_report(y_test, pred))\n",
    "clf = MLPClassifier(max_iter=500, activation='logistic', random_state=42)\n",
    "clf.fit(x_train, y_train)\n",
    "pred = clf.predict(x_test)\n",
    "print(\"\\nConfusion Matrix with Logistic activation (70-30 split):\")\n",
    "print(confusion_matrix(y_test, pred))\n"
   ]
  },
  {
   "cell_type": "code",
   "execution_count": 10,
   "id": "34da8ec3-061e-49eb-883a-c272896369df",
   "metadata": {},
   "outputs": [
    {
     "name": "stdout",
     "output_type": "stream",
     "text": [
      "\n",
      "Classification Report with Logistic activation (70-30 split):\n",
      "              precision    recall  f1-score   support\n",
      "\n",
      "           0       1.00      1.00      1.00       229\n",
      "           1       1.00      0.99      1.00       183\n",
      "\n",
      "    accuracy                           1.00       412\n",
      "   macro avg       1.00      1.00      1.00       412\n",
      "weighted avg       1.00      1.00      1.00       412\n",
      "\n",
      "\n",
      "Confusion Matrix with Tanh activation (70-30 split):\n",
      "[[229   0]\n",
      " [  0 183]]\n",
      "\n",
      "Classification Report with Tanh activation (70-30 split):\n",
      "              precision    recall  f1-score   support\n",
      "\n",
      "           0       1.00      1.00      1.00       229\n",
      "           1       1.00      1.00      1.00       183\n",
      "\n",
      "    accuracy                           1.00       412\n",
      "   macro avg       1.00      1.00      1.00       412\n",
      "weighted avg       1.00      1.00      1.00       412\n",
      "\n",
      "\n",
      "Confusion Matrix with Identity activation (70-30 split):\n",
      "[[226   3]\n",
      " [  2 181]]\n",
      "\n",
      "Classification Report with Identity activation (70-30 split):\n",
      "              precision    recall  f1-score   support\n",
      "\n",
      "           0       0.99      0.99      0.99       229\n",
      "           1       0.98      0.99      0.99       183\n",
      "\n",
      "    accuracy                           0.99       412\n",
      "   macro avg       0.99      0.99      0.99       412\n",
      "weighted avg       0.99      0.99      0.99       412\n",
      "\n"
     ]
    }
   ],
   "source": [
    "print(\"\\nClassification Report with Logistic activation (70-30 split):\")\n",
    "print(classification_report(y_test, pred))\n",
    "clf = MLPClassifier(max_iter=500, activation='tanh', random_state=42)\n",
    "clf.fit(x_train, y_train)\n",
    "pred = clf.predict(x_test)\n",
    "print(\"\\nConfusion Matrix with Tanh activation (70-30 split):\")\n",
    "print(confusion_matrix(y_test, pred))\n",
    "print(\"\\nClassification Report with Tanh activation (70-30 split):\")\n",
    "print(classification_report(y_test, pred))\n",
    "clf = MLPClassifier(max_iter=500, activation='identity', random_state=42)\n",
    "clf.fit(x_train, y_train)\n",
    "pred = clf.predict(x_test)\n",
    "print(\"\\nConfusion Matrix with Identity activation (70-30 split):\")\n",
    "print(confusion_matrix(y_test, pred))\n",
    "print(\"\\nClassification Report with Identity activation (70-30 split):\")\n",
    "print(classification_report(y_test, pred))\n"
   ]
  },
  {
   "cell_type": "code",
   "execution_count": null,
   "id": "d1e26eac-8aec-4d1f-8230-0f9c57442d79",
   "metadata": {},
   "outputs": [],
   "source": []
  }
 ],
 "metadata": {
  "kernelspec": {
   "display_name": "Python 3 (ipykernel)",
   "language": "python",
   "name": "python3"
  },
  "language_info": {
   "codemirror_mode": {
    "name": "ipython",
    "version": 3
   },
   "file_extension": ".py",
   "mimetype": "text/x-python",
   "name": "python",
   "nbconvert_exporter": "python",
   "pygments_lexer": "ipython3",
   "version": "3.12.4"
  }
 },
 "nbformat": 4,
 "nbformat_minor": 5
}
