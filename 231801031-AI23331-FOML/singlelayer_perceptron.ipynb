{
 "cells": [
  {
   "cell_type": "code",
   "execution_count": 1,
   "id": "01dea681-c276-4822-8755-b0ee91a19ad5",
   "metadata": {},
   "outputs": [
    {
     "name": "stdout",
     "output_type": "stream",
     "text": [
      "Input: [0 0], Predicted Output: 0.5128176319164418\n",
      "Input: [0 1], Predicted Output: 0.5\n",
      "Input: [1 0], Predicted Output: 0.48718236808355825\n",
      "Input: [1 1], Predicted Output: 0.4743815717463977\n"
     ]
    }
   ],
   "source": [
    "import numpy as np\n",
    "X = np.array([[0, 0], [0, 1], [1, 0], [1, 1]]) \n",
    "y = np.array([0, 1, 1, 0])\n",
    "W = np.random.randn(2) \n",
    "b = np.random.randn()\n",
    "alpha = 0.1\n",
    "epochs = 10000\n",
    "for epoch in range(epochs):\n",
    "    for i in range(X.shape[0]):\n",
    "        z = np.dot(X[i], W) + b\n",
    "        y_pred = 1 / (1 + np.exp(-z))\n",
    "        error = y[i] - y_pred\n",
    "        W += alpha * error * X[i]\n",
    "        b += alpha * error\n",
    "for i in range(X.shape[0]):\n",
    "    z = np.dot(X[i], W) + b\n",
    "    y_pred = 1 / (1 + np.exp(-z))\n",
    "    print(f\"Input: {X[i]}, Predicted Output: {y_pred}\")\n"
   ]
  },
  {
   "cell_type": "code",
   "execution_count": null,
   "id": "4f9e955c-1b62-4e49-9e3d-bc179074c694",
   "metadata": {},
   "outputs": [],
   "source": []
  }
 ],
 "metadata": {
  "kernelspec": {
   "display_name": "Python 3 (ipykernel)",
   "language": "python",
   "name": "python3"
  },
  "language_info": {
   "codemirror_mode": {
    "name": "ipython",
    "version": 3
   },
   "file_extension": ".py",
   "mimetype": "text/x-python",
   "name": "python",
   "nbconvert_exporter": "python",
   "pygments_lexer": "ipython3",
   "version": "3.12.4"
  }
 },
 "nbformat": 4,
 "nbformat_minor": 5
}
